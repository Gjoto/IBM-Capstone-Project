{
 "cells": [
  {
   "cell_type": "markdown",
   "metadata": {},
   "source": [
    "## Tracking the most attractive spots for food truck fast food business in Skopje, North Macedonia"
   ]
  },
  {
   "cell_type": "markdown",
   "metadata": {},
   "source": [
    "### Business Problem Introduction\n",
    "\n",
    "In developing countries, with still underdeveloped service industry there is a great potential in tapping into the underserved sectors and extract additional profits from being the first market entrants. Skopje, the capital city of North Macedonia is one such territory, where most of the fast food industry is based on traditional places such as restaurants, fast food chain joints and bakeries. \n",
    "To stimulate the operationalization of different types of fast food ventures, this report aims to identify the potential of food truck type fast food ventures through tracking the spots where aforementioned trucks would serve their customers. To the author knowledge, they are currently no fast food trucks in Skopje, so this analysis is explorative in nature i.e. providing motivation and marketing sense to the potential of this particular industry.\n",
    "The author believes that the advent of freely available geolocation data makes the market research easier and more effective; by leveraging existing venue mappings, food truck owners and no longer required to browse through detailed maps of every neighborhood or trial-and-error locations to test their attractiveness. Instead, a script could be written that, based on specified criteria, could access, analyze and visualize spots that would be attractive to the business at hand. \n"
   ]
  },
  {
   "cell_type": "markdown",
   "metadata": {},
   "source": [
    "### Methodology & Data\n",
    "\n",
    "The specific task at hand requires some industry-specific knowledge that would be utilized to compile a set of criteria used for the analysis of the specific spots. First off, the fast food trucks do not need specific business hours that could virtually be open 24/7 as long as they are close and easily accessible to potential customer base. To that end, as the hours of the day change, so do the venues in which people spend their time. For example, for the first shift parks and offices may be the most attractive, while for the later in the day (third shift) bars and clubs may be more suitable. For this purposes, this report will analyze and conclude on spots for all three shifts, divided in particular:\n",
    "1.\t09 AM – 16 PM (based around offices and parks)\n",
    "2.\t16 PM – 20 PM (residential areas and schools)\n",
    "3.\t20 PM – O2 AM (bars and dance clubs) \n",
    "\n",
    "This task will require mapping all the spots, then segmenting them based on their venues tag and lastly, clustering the areas in which the spots are more prevalent. For the last part, a specific types of clustering algorithm called DBSCAN will be used.\n",
    "As for the data, the authors will mainly use Foursquare API to extract the venues from specific neighborhoods in Skopje, with an additional dataset consisting of the neighborhood names and their coordinates. This dataset is created using a script that extracts the information from Wikipedia page on Skopje neighborhoods (link in Macedonian available [here](https://mk.wikipedia.org/wiki/%D0%A1%D0%BF%D0%B8%D1%81%D0%BE%D0%BA_%D0%BD%D0%B0_%D1%81%D0%BA%D0%BE%D0%BF%D1%81%D0%BA%D0%B8_%D0%BD%D0%B0%D1%81%D0%B5%D0%BB%D0%B1%D0%B8_%D0%B8_%D0%BC%D0%B0%D0%B0%D0%BB%D0%B0)), and where needed, manually searching and inputting from other sources. \n",
    "The data will then be used to firstly visualize the neighborhoods, select appropriate venues (depending on the criteria explained above) and conclude on the specific spots where a truck could be placed in a specific shift. \n"
   ]
  },
  {
   "cell_type": "markdown",
   "metadata": {},
   "source": [
    "## Importing libraries & Data"
   ]
  },
  {
   "cell_type": "code",
   "execution_count": 1,
   "metadata": {},
   "outputs": [],
   "source": [
    "import pandas as pd\n",
    "import numpy as np \n",
    "import requests \n",
    "\n",
    "import json # library to handle JSON files\n",
    "\n",
    "from geopy.geocoders import Nominatim # convert an address into latitude and longitude values\n",
    "\n",
    "from pandas.io.json import json_normalize # tranform JSON file into a pandas dataframe\n",
    "\n",
    "# Matplotlib and associated plotting modules\n",
    "import matplotlib.cm as cm\n",
    "import matplotlib.colors as colors\n",
    "\n",
    "# import k-means from clustering stage\n",
    "from sklearn.cluster import KMeans\n",
    "import folium # map rendering library\n",
    "from bs4 import BeautifulSoup\n",
    "\n",
    "import geocoder"
   ]
  },
  {
   "cell_type": "code",
   "execution_count": 2,
   "metadata": {},
   "outputs": [
    {
     "data": {
      "text/html": [
       "<div>\n",
       "<style scoped>\n",
       "    .dataframe tbody tr th:only-of-type {\n",
       "        vertical-align: middle;\n",
       "    }\n",
       "\n",
       "    .dataframe tbody tr th {\n",
       "        vertical-align: top;\n",
       "    }\n",
       "\n",
       "    .dataframe thead th {\n",
       "        text-align: right;\n",
       "    }\n",
       "</style>\n",
       "<table border=\"1\" class=\"dataframe\">\n",
       "  <thead>\n",
       "    <tr style=\"text-align: right;\">\n",
       "      <th></th>\n",
       "      <th>Borough</th>\n",
       "      <th>Neighborhood</th>\n",
       "      <th>Latitude</th>\n",
       "      <th>Longitude</th>\n",
       "    </tr>\n",
       "  </thead>\n",
       "  <tbody>\n",
       "    <tr>\n",
       "      <td>0</td>\n",
       "      <td>Gazi Baba</td>\n",
       "      <td>Avtokomanda</td>\n",
       "      <td>42.004167</td>\n",
       "      <td>21.465278</td>\n",
       "    </tr>\n",
       "    <tr>\n",
       "      <td>1</td>\n",
       "      <td>Aerodrom</td>\n",
       "      <td>Aerodrom</td>\n",
       "      <td>41.981881</td>\n",
       "      <td>21.468390</td>\n",
       "    </tr>\n",
       "    <tr>\n",
       "      <td>2</td>\n",
       "      <td>Gazi Baba</td>\n",
       "      <td>Butel</td>\n",
       "      <td>42.030133</td>\n",
       "      <td>21.442405</td>\n",
       "    </tr>\n",
       "    <tr>\n",
       "      <td>3</td>\n",
       "      <td>Gjorche Petrov</td>\n",
       "      <td>Vlae</td>\n",
       "      <td>42.007700</td>\n",
       "      <td>21.375500</td>\n",
       "    </tr>\n",
       "    <tr>\n",
       "      <td>4</td>\n",
       "      <td>Centar</td>\n",
       "      <td>Vodno</td>\n",
       "      <td>41.989722</td>\n",
       "      <td>21.413333</td>\n",
       "    </tr>\n",
       "  </tbody>\n",
       "</table>\n",
       "</div>"
      ],
      "text/plain": [
       "          Borough Neighborhood   Latitude  Longitude\n",
       "0       Gazi Baba  Avtokomanda  42.004167  21.465278\n",
       "1        Aerodrom     Aerodrom  41.981881  21.468390\n",
       "2       Gazi Baba        Butel  42.030133  21.442405\n",
       "3  Gjorche Petrov         Vlae  42.007700  21.375500\n",
       "4          Centar        Vodno  41.989722  21.413333"
      ]
     },
     "execution_count": 2,
     "metadata": {},
     "output_type": "execute_result"
    }
   ],
   "source": [
    "# Data\n",
    "\n",
    "df = pd.read_excel('skopje_hoods.xlsx')\n",
    "df.head()"
   ]
  },
  {
   "cell_type": "code",
   "execution_count": null,
   "metadata": {},
   "outputs": [],
   "source": []
  }
 ],
 "metadata": {
  "kernelspec": {
   "display_name": "Python 3",
   "language": "python",
   "name": "python3"
  },
  "language_info": {
   "codemirror_mode": {
    "name": "ipython",
    "version": 3
   },
   "file_extension": ".py",
   "mimetype": "text/x-python",
   "name": "python",
   "nbconvert_exporter": "python",
   "pygments_lexer": "ipython3",
   "version": "3.7.4"
  }
 },
 "nbformat": 4,
 "nbformat_minor": 2
}
